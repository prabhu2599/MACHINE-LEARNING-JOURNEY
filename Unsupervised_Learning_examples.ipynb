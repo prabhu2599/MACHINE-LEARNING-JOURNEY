{
  "nbformat": 4,
  "nbformat_minor": 0,
  "metadata": {
    "colab": {
      "name": "Unsupervised Learning examples.ipynb",
      "provenance": [],
      "authorship_tag": "ABX9TyN/wtNcha4HgtIm7fhE2Wtq",
      "include_colab_link": true
    },
    "kernelspec": {
      "name": "python3",
      "display_name": "Python 3"
    }
  },
  "cells": [
    {
      "cell_type": "markdown",
      "metadata": {
        "id": "view-in-github",
        "colab_type": "text"
      },
      "source": [
        "<a href=\"https://colab.research.google.com/github/prabhu2599/MACHINE-LEARNING-JOURNEY/blob/master/Unsupervised_Learning_examples.ipynb\" target=\"_parent\"><img src=\"https://colab.research.google.com/assets/colab-badge.svg\" alt=\"Open In Colab\"/></a>"
      ]
    },
    {
      "cell_type": "code",
      "metadata": {
        "id": "BTlpmJL9RSMw",
        "colab_type": "code",
        "colab": {}
      },
      "source": [
        "from sklearn import datasets\n",
        "import matplotlib.pyplot as plt"
      ],
      "execution_count": 2,
      "outputs": []
    },
    {
      "cell_type": "code",
      "metadata": {
        "id": "vIwHBO-cSW_u",
        "colab_type": "code",
        "colab": {}
      },
      "source": [
        "boston = datasets.load_boston()\n",
        "breastCancer = datasets.load_breast_cancer()\n",
        "diab = datasets.load_diabetes()\n",
        "iris = datasets.load_iris()"
      ],
      "execution_count": 12,
      "outputs": []
    },
    {
      "cell_type": "markdown",
      "metadata": {
        "id": "24w1KwvsXw25",
        "colab_type": "text"
      },
      "source": [
        "**Choose Dataset in next step.**"
      ]
    },
    {
      "cell_type": "code",
      "metadata": {
        "id": "ybtenJ1XXwMb",
        "colab_type": "code",
        "colab": {}
      },
      "source": [
        "data_boston = boston.data\n",
        "data_breastCancer = breastCancer.data\n",
        "data_diab = diab.data\n",
        "data_iris = iris.data\n",
        "\n",
        "dataToUse = data_iris#Change this"
      ],
      "execution_count": 47,
      "outputs": []
    },
    {
      "cell_type": "code",
      "metadata": {
        "id": "fFbJ22HyViPE",
        "colab_type": "code",
        "colab": {
          "base_uri": "https://localhost:8080/",
          "height": 170
        },
        "outputId": "57bb7c9f-fc82-41bd-dade-084074f9e01c"
      },
      "source": [
        "print(breastCancer.feature_names)"
      ],
      "execution_count": 23,
      "outputs": [
        {
          "output_type": "stream",
          "text": [
            "['mean radius' 'mean texture' 'mean perimeter' 'mean area'\n",
            " 'mean smoothness' 'mean compactness' 'mean concavity'\n",
            " 'mean concave points' 'mean symmetry' 'mean fractal dimension'\n",
            " 'radius error' 'texture error' 'perimeter error' 'area error'\n",
            " 'smoothness error' 'compactness error' 'concavity error'\n",
            " 'concave points error' 'symmetry error' 'fractal dimension error'\n",
            " 'worst radius' 'worst texture' 'worst perimeter' 'worst area'\n",
            " 'worst smoothness' 'worst compactness' 'worst concavity'\n",
            " 'worst concave points' 'worst symmetry' 'worst fractal dimension']\n"
          ],
          "name": "stdout"
        }
      ]
    },
    {
      "cell_type": "markdown",
      "metadata": {
        "id": "SaYC0ewqZt_g",
        "colab_type": "text"
      },
      "source": [
        "**Plot the data points to visualize**"
      ]
    },
    {
      "cell_type": "code",
      "metadata": {
        "id": "Ay3AwZhGS7lr",
        "colab_type": "code",
        "colab": {
          "base_uri": "https://localhost:8080/",
          "height": 265
        },
        "outputId": "d9b5bf3c-0770-419e-dbb8-4ad9e8544ed3"
      },
      "source": [
        "x_axis, y_axis = breastCancer.data[:150,1] , breastCancer.data[:150,28]\n",
        "\n",
        "plt.scatter(x_axis, y_axis, c=iris.target)\n",
        "plt.show()"
      ],
      "execution_count": 65,
      "outputs": [
        {
          "output_type": "display_data",
          "data": {
            "image/png": "[encoded data removed]",
            "text/plain": [
              "<Figure size 432x288 with 1 Axes>"
            ]
          },
          "metadata": {
            "tags": [],
            "needs_background": "light"
          }
        }
      ]
    },
    {
      "cell_type": "markdown",
      "metadata": {
        "id": "S6x6W4CyWnL0",
        "colab_type": "text"
      },
      "source": [
        "Lets try **CLUSTERING**.\n",
        "Kmeans and Mini-Batch Kmeans"
      ]
    },
    {
      "cell_type": "code",
      "metadata": {
        "id": "3Sp7ERoWS_MH",
        "colab_type": "code",
        "colab": {}
      },
      "source": [
        "from sklearn import datasets\n",
        "from sklearn.cluster import KMeans,MiniBatchKMeans,SpectralCoclustering"
      ],
      "execution_count": 41,
      "outputs": []
    },
    {
      "cell_type": "markdown",
      "metadata": {
        "id": "L2s26qZNdGvM",
        "colab_type": "text"
      },
      "source": [
        "**Notice the n_clusters value**. \n",
        "And change it accordingly\n",
        "\n",
        "> It should be the *lengt*h of the unique target values\n",
        "\n"
      ]
    },
    {
      "cell_type": "code",
      "metadata": {
        "id": "tmvmE_t1V1Oj",
        "colab_type": "code",
        "colab": {}
      },
      "source": [
        "model_KMeans = KMeans(n_clusters=3)\n",
        "model_MiniBatchKMeans = MiniBatchKMeans(n_clusters=3)\n",
        "model_SpectralCoclustering = SpectralCoclustering(n_clusters=3)"
      ],
      "execution_count": 54,
      "outputs": []
    },
    {
      "cell_type": "code",
      "metadata": {
        "id": "xoSqMy4DXWW7",
        "colab_type": "code",
        "colab": {
          "base_uri": "https://localhost:8080/",
          "height": 85
        },
        "outputId": "dbcad1ff-0311-4e73-8dd1-f72da0cd67fb"
      },
      "source": [
        "model_KMeans.fit(dataToUse)\n",
        "model_MiniBatchKMeans.fit(dataToUse)\n",
        "#model_SpectralCoclustering.fit(dataToUse)"
      ],
      "execution_count": 55,
      "outputs": [
        {
          "output_type": "execute_result",
          "data": {
            "text/plain": [
              "MiniBatchKMeans(batch_size=100, compute_labels=True, init='k-means++',\n",
              "                init_size=None, max_iter=100, max_no_improvement=10,\n",
              "                n_clusters=3, n_init=3, random_state=None,\n",
              "                reassignment_ratio=0.01, tol=0.0, verbose=0)"
            ]
          },
          "metadata": {
            "tags": []
          },
          "execution_count": 55
        }
      ]
    },
    {
      "cell_type": "code",
      "metadata": {
        "id": "s8yBfpG_XlIk",
        "colab_type": "code",
        "colab": {
          "base_uri": "https://localhost:8080/",
          "height": 34
        },
        "outputId": "fabe1912-fcf4-4432-86f8-1af1c8f2f35f"
      },
      "source": [
        "predicted_label = [model_KMeans.predict([[7.2, 3.5, 0.8, 1.6]]),\n",
        "                   model_MiniBatchKMeans.predict([[7.2, 3.5, 0.8, 1.6]])\n",
        "]\n",
        "print(predicted_label)"
      ],
      "execution_count": 64,
      "outputs": [
        {
          "output_type": "stream",
          "text": [
            "[array([1], dtype=int32), array([1], dtype=int32)]\n"
          ],
          "name": "stdout"
        }
      ]
    },
    {
      "cell_type": "code",
      "metadata": {
        "id": "PvgQFdJnYqPo",
        "colab_type": "code",
        "colab": {}
      },
      "source": [
        ""
      ],
      "execution_count": null,
      "outputs": []
    },
    {
      "cell_type": "markdown",
      "metadata": {
        "id": "kSKOBaWGafrH",
        "colab_type": "text"
      },
      "source": [
        ""
      ]
    }
  ]
}