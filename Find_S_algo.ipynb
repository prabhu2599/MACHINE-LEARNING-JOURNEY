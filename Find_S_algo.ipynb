{
  "nbformat": 4,
  "nbformat_minor": 0,
  "metadata": {
    "colab": {
      "name": "Find-S algo.ipynb",
      "provenance": [],
      "authorship_tag": "ABX9TyODGr6XLZVpAHjznytO2oYA",
      "include_colab_link": true
    },
    "kernelspec": {
      "name": "python3",
      "display_name": "Python 3"
    }
  },
  "cells": [
    {
      "cell_type": "markdown",
      "metadata": {
        "id": "view-in-github",
        "colab_type": "text"
      },
      "source": [
        "<a href=\"https://colab.research.google.com/github/prabhu2599/My-ML-Journey/blob/parallel_roads/Find_S_algo.ipynb\" target=\"_parent\"><img src=\"https://colab.research.google.com/assets/colab-badge.svg\" alt=\"Open In Colab\"/></a>"
      ]
    },
    {
      "cell_type": "code",
      "metadata": {
        "id": "Gkk2DzapFGCG",
        "colab_type": "code",
        "colab": {
          "base_uri": "https://localhost:8080/",
          "height": 102
        },
        "outputId": "b26549f1-e6dc-4237-c15c-4274d0addd0b"
      },
      "source": [
        "import pandas as pd\n",
        "import numpy as np\n",
        " \n",
        "#to read the data in the csv file\n",
        "data = pd.read_csv(\"data.csv\")\n",
        "print(data,\"n\")"
      ],
      "execution_count": 31,
      "outputs": [
        {
          "output_type": "stream",
          "text": [
            "      Time Weather Temperature Company Humidity    Wind Goes\n",
            "0  Morning   Sunny        Warm     Yes     Mild  Strong  Yes\n",
            "1  Evening   Rainy        Cold      No     Mild  Normal   No\n",
            "2  Morning   Sunny    Moderate     Yes   Normal  Normal  Yes\n",
            "3  Evening   Sunny        Cold     Yes     High  Strong  Yes n\n"
          ],
          "name": "stdout"
        }
      ]
    },
    {
      "cell_type": "code",
      "metadata": {
        "id": "QfM30r25FH6K",
        "colab_type": "code",
        "colab": {
          "base_uri": "https://localhost:8080/",
          "height": 102
        },
        "outputId": "aee24349-97ef-4784-8458-3ccea09f261d"
      },
      "source": [
        " #making an array of all the attributes\n",
        "# data = np.array([['Morning', 'Sunny', 'Warm', 'Yes', 'Mild', 'Strong'],\n",
        "#        ['Evening', 'Rainy', 'Cold', 'No', 'Mild', 'Normal'],\n",
        "#        ['Morning', 'Sunny', 'Moderate', 'Yes', 'Normal', 'Normal'],\n",
        "#        ['Evening', 'Sunny', 'Cold', 'Yes', 'High', 'Strong']])\n",
        "d = np.array(data)[:,:-1]\n",
        "d"
      ],
      "execution_count": 32,
      "outputs": [
        {
          "output_type": "execute_result",
          "data": {
            "text/plain": [
              "array([['Morning', 'Sunny', 'Warm', 'Yes', 'Mild', 'Strong'],\n",
              "       ['Evening', 'Rainy', 'Cold', 'No', 'Mild', 'Normal'],\n",
              "       ['Morning', 'Sunny', 'Moderate', 'Yes', 'Normal', 'Normal'],\n",
              "       ['Evening', 'Sunny', 'Cold', 'Yes', 'High', 'Strong']],\n",
              "      dtype=object)"
            ]
          },
          "metadata": {
            "tags": []
          },
          "execution_count": 32
        }
      ]
    },
    {
      "cell_type": "code",
      "metadata": {
        "id": "JmDsAyZ9G2mS",
        "colab_type": "code",
        "colab": {
          "base_uri": "https://localhost:8080/",
          "height": 34
        },
        "outputId": "d4ef89d7-b9b7-4c58-9452-abc48cd689e8"
      },
      "source": [
        "#segragating the target that has positive and negative examples\n",
        "target = np.array(data)[:,-1]\n",
        "print(\"n The target is: \",target)\n",
        " \n",
        "#training function to implement find-s algorithm"
      ],
      "execution_count": 33,
      "outputs": [
        {
          "output_type": "stream",
          "text": [
            "n The target is:  ['Yes' 'No' 'Yes' 'Yes']\n"
          ],
          "name": "stdout"
        }
      ]
    },
    {
      "cell_type": "code",
      "metadata": {
        "id": "Dt_NvtciG4Ip",
        "colab_type": "code",
        "colab": {}
      },
      "source": [
        "def train(c,t):\n",
        "    for i, val in enumerate(t):\n",
        "        if val == \"Yes\":\n",
        "            specific_hypothesis = c[i].copy()\n",
        "            break\n",
        "             \n",
        "    for i, val in enumerate(c):\n",
        "        if t[i] == \"Yes\":\n",
        "            for x in range(len(specific_hypothesis)):\n",
        "                if val[x] != specific_hypothesis[x]:\n",
        "                    specific_hypothesis[x] = '?'\n",
        "                else:\n",
        "                    pass\n",
        "                 \n",
        "    return specific_hypothesis"
      ],
      "execution_count": 34,
      "outputs": []
    },
    {
      "cell_type": "code",
      "metadata": {
        "id": "fbP7VAZLG6T1",
        "colab_type": "code",
        "colab": {
          "base_uri": "https://localhost:8080/",
          "height": 34
        },
        "outputId": "d1a1d17b-e19d-4de0-8251-d95f1457b0b2"
      },
      "source": [
        "#obtaining the final hypothesis\n",
        "print(\"n The final hypothesis is:\",train(d,target))"
      ],
      "execution_count": 35,
      "outputs": [
        {
          "output_type": "stream",
          "text": [
            "n The final hypothesis is: ['?' 'Sunny' '?' 'Yes' '?' '?']\n"
          ],
          "name": "stdout"
        }
      ]
    },
    {
      "cell_type": "code",
      "metadata": {
        "id": "Z4do4foFG622",
        "colab_type": "code",
        "colab": {}
      },
      "source": [
        ""
      ],
      "execution_count": 23,
      "outputs": []
    }
  ]
}