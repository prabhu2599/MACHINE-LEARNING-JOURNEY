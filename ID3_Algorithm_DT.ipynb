{
  "nbformat": 4,
  "nbformat_minor": 0,
  "metadata": {
    "colab": {
      "name": "ID3 Algorithm",
      "provenance": [],
      "authorship_tag": "ABX9TyMX61GDkfdtF112NaqVuLix",
      "include_colab_link": true
    },
    "kernelspec": {
      "name": "python3",
      "display_name": "Python 3"
    }
  },
  "cells": [
    {
      "cell_type": "markdown",
      "metadata": {
        "id": "view-in-github",
        "colab_type": "text"
      },
      "source": [
        "<a href=\"https://colab.research.google.com/github/prabhu2599/My-ML-Journey/blob/master/ID3_Algorithm.ipynb\" target=\"_parent\"><img src=\"https://colab.research.google.com/assets/colab-badge.svg\" alt=\"Open In Colab\"/></a>"
      ]
    },
    {
      "cell_type": "code",
      "metadata": {
        "id": "DJpcdbIfj89G",
        "colab_type": "code",
        "colab": {}
      },
      "source": [
        "import numpy as np\n",
        "import math \n",
        "import pandas as pd"
      ],
      "execution_count": 7,
      "outputs": []
    },
    {
      "cell_type": "code",
      "metadata": {
        "id": "WwWr0W08kHIH",
        "colab_type": "code",
        "colab": {
          "base_uri": "https://localhost:8080/",
          "height": 34
        },
        "outputId": "06dc3021-237f-4132-a516-b1752ba70c2f"
      },
      "source": [
        "data = np.array([[1,1,0,1,1],[1,0,0,1,1],[1,0,0,0,1]])\n",
        "data.shape[0]"
      ],
      "execution_count": 17,
      "outputs": [
        {
          "output_type": "execute_result",
          "data": {
            "text/plain": [
              "3"
            ]
          },
          "metadata": {
            "tags": []
          },
          "execution_count": 17
        }
      ]
    },
    {
      "cell_type": "code",
      "metadata": {
        "id": "GsIKLAgJk37e",
        "colab_type": "code",
        "colab": {}
      },
      "source": [
        "def entropy(data):\n",
        "  n = np.arange(data.shape[0])\n",
        "  data_dict = dict(zip(n,data))\n",
        "  score = {}\n",
        "  for val in data_dict:\n",
        "    score[val] = {0:list(data_dict[val]).count(0),1:list(data_dict[val]).count(1)}\n",
        "#   print(score)\n",
        "  nTotal = 0\n",
        "  entropyByBatch = {}\n",
        "  for batch in score:\n",
        "    n = score[batch][0] + score[batch][1]\n",
        "    nTotal += n\n",
        "  for batch in score:\n",
        "    n = score[batch][0] + score[batch][1]\n",
        "    ans = 0\n",
        "    for val in score[batch]:\n",
        "        prob = score[batch][val]\n",
        "        ans += (-1*(prob/n)*(math.log((prob/n),2)))\n",
        "        print(-1*(prob/n)*(math.log((prob/n),2)),end=' ')\n",
        "    print(\" = \",ans)\n",
        "    entropyByBatch[batch] = ans\n",
        "    \n",
        "  finalBatchEntropy = 0\n",
        "  for entr in entropyByBatch:\n",
        "    finalBatchEntropy += (n/nTotal)*entropyByBatch[entr]\n",
        "    \n",
        "  return entropyByBatch,finalBatchEntropy"
      ],
      "execution_count": 25,
      "outputs": []
    },
    {
      "cell_type": "code",
      "metadata": {
        "id": "lE7_eDw_0bUc",
        "colab_type": "code",
        "colab": {
          "base_uri": "https://localhost:8080/",
          "height": 68
        },
        "outputId": "f292afe7-646f-425b-9184-c1fe075995ce"
      },
      "source": [
        "entropy_of_each,entropy_final = entropy(data)"
      ],
      "execution_count": 26,
      "outputs": [
        {
          "output_type": "stream",
          "text": [
            "0.46438561897747244 0.2575424759098898  =  0.7219280948873623\n",
            "0.5287712379549449 0.44217935649972373  =  0.9709505944546686\n",
            "0.44217935649972373 0.5287712379549449  =  0.9709505944546686\n"
          ],
          "name": "stdout"
        }
      ]
    },
    {
      "cell_type": "code",
      "metadata": {
        "id": "3PfQ5YAyLNXD",
        "colab_type": "code",
        "colab": {
          "base_uri": "https://localhost:8080/",
          "height": 51
        },
        "outputId": "8fd0cb99-6cb5-4270-85a7-c30527fc5320"
      },
      "source": [
        "print(\"Entropy of each Attribute in the feature\",entropy_of_each)\n",
        "print(\"Entropy whole feature\",entropy_final)"
      ],
      "execution_count": 27,
      "outputs": [
        {
          "output_type": "stream",
          "text": [
            "Entropy of each Attribute in the feature {0: 0.7219280948873623, 1: 0.9709505944546686, 2: 0.9709505944546686}\n",
            "Entropy whole feature 0.8879430945988998\n"
          ],
          "name": "stdout"
        }
      ]
    },
    {
      "cell_type": "code",
      "metadata": {
        "id": "HEnjota4MJRD",
        "colab_type": "code",
        "colab": {}
      },
      "source": [
        ""
      ],
      "execution_count": null,
      "outputs": []
    }
  ]
}
