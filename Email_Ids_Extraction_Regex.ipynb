{
  "nbformat": 4,
  "nbformat_minor": 0,
  "metadata": {
    "colab": {
      "name": "Email Ids Extraction Regex.ipynb",
      "provenance": [],
      "collapsed_sections": [],
      "authorship_tag": "ABX9TyOKXTKJz+qxxTc4+YfFRRJR",
      "include_colab_link": true
    },
    "kernelspec": {
      "name": "python3",
      "display_name": "Python 3"
    },
    "language_info": {
      "name": "python"
    }
  },
  "cells": [
    {
      "cell_type": "markdown",
      "metadata": {
        "id": "view-in-github",
        "colab_type": "text"
      },
      "source": [
        "<a href=\"https://colab.research.google.com/github/prabhu2599/MACHINE-LEARNING-JOURNEY/blob/master/Email_Ids_Extraction_Regex.ipynb\" target=\"_parent\"><img src=\"https://colab.research.google.com/assets/colab-badge.svg\" alt=\"Open In Colab\"/></a>"
      ]
    },
    {
      "cell_type": "code",
      "metadata": {
        "colab": {
          "base_uri": "https://localhost:8080/"
        },
        "id": "RNONLd-iNvn7",
        "outputId": "7adc4a08-a09d-4336-eb2b-10ff8ee40ebe"
      },
      "source": [
        "import re\n",
        "s = ['111gmail.com', 'hereuserahoo.in', 'user3utlook.ihu.nj', '23535235live.co.uk.rs', '23535235lisve.co.uk.rs']\n",
        "for ss in s:\n",
        "    print(re.findall('[a-zA-Z.-]\\w+\\S+\\w+[.]\\w{2,3}$',ss))"
      ],
      "execution_count": 1,
      "outputs": [
        {
          "output_type": "stream",
          "text": [
            "['gmail.com']\n",
            "['hereuserahoo.in']\n",
            "['user3utlook.ihu.nj']\n",
            "['live.co.uk.rs']\n",
            "['lisve.co.uk.rs']\n"
          ],
          "name": "stdout"
        }
      ]
    },
    {
      "cell_type": "code",
      "metadata": {
        "id": "Q5JIvQVjNwqa"
      },
      "source": [
        ""
      ],
      "execution_count": null,
      "outputs": []
    }
  ]
}