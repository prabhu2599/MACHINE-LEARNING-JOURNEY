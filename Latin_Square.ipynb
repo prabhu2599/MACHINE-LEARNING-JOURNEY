{
  "nbformat": 4,
  "nbformat_minor": 0,
  "metadata": {
    "colab": {
      "name": "Latin Square.ipynb",
      "provenance": [],
      "authorship_tag": "ABX9TyMSbBhg+bj0326YEvji3af7",
      "include_colab_link": true
    },
    "kernelspec": {
      "name": "python3",
      "display_name": "Python 3"
    }
  },
  "cells": [
    {
      "cell_type": "markdown",
      "metadata": {
        "id": "view-in-github",
        "colab_type": "text"
      },
      "source": [
        "<a href=\"https://colab.research.google.com/github/prabhu2599/MACHINE-LEARNING-JOURNEY/blob/parallel_roads/Latin_Square.ipynb\" target=\"_parent\"><img src=\"https://colab.research.google.com/assets/colab-badge.svg\" alt=\"Open In Colab\"/></a>"
      ]
    },
    {
      "cell_type": "code",
      "metadata": {
        "id": "YlYPModOgApP"
      },
      "source": [
        "import numpy as np"
      ],
      "execution_count": 1,
      "outputs": []
    },
    {
      "cell_type": "code",
      "metadata": {
        "id": "nYLGt2f2gE2K"
      },
      "source": [
        "arr = np.array([[8, 28,21,13,12,26],[14,24,31,13,11,33],[26,20,27,11,8,28],[15,30,24,22,18,28],[24,18,24,17,19,24],[20,18,17,14,10,23]], dtype='int')"
      ],
      "execution_count": 7,
      "outputs": []
    },
    {
      "cell_type": "code",
      "metadata": {
        "id": "ApIdR0jDgx2v",
        "outputId": "5547502f-1f02-42c9-e381-ab0c7834c6b1",
        "colab": {
          "base_uri": "https://localhost:8080/",
          "height": 119
        }
      },
      "source": [
        "arr"
      ],
      "execution_count": 8,
      "outputs": [
        {
          "output_type": "execute_result",
          "data": {
            "text/plain": [
              "array([[ 8, 28, 21, 13, 12, 26],\n",
              "       [14, 24, 31, 13, 11, 33],\n",
              "       [26, 20, 27, 11,  8, 28],\n",
              "       [15, 30, 24, 22, 18, 28],\n",
              "       [24, 18, 24, 17, 19, 24],\n",
              "       [20, 18, 17, 14, 10, 23]])"
            ]
          },
          "metadata": {
            "tags": []
          },
          "execution_count": 8
        }
      ]
    },
    {
      "cell_type": "code",
      "metadata": {
        "id": "kVxkX3FJgyus",
        "outputId": "d1d8f886-e198-4b4b-cd31-ef31edd84b97",
        "colab": {
          "base_uri": "https://localhost:8080/",
          "height": 51
        }
      },
      "source": [
        "tj = arr.sum(axis=0)\n",
        "(tj*tj)/6"
      ],
      "execution_count": 26,
      "outputs": [
        {
          "output_type": "execute_result",
          "data": {
            "text/plain": [
              "array([1908.16666667, 3174.        , 3456.        , 1350.        ,\n",
              "       1014.        , 4374.        ])"
            ]
          },
          "metadata": {
            "tags": []
          },
          "execution_count": 26
        }
      ]
    },
    {
      "cell_type": "code",
      "metadata": {
        "id": "X5KPoR7nhfuA",
        "outputId": "fceeaed6-6c4e-45f4-8ac0-6f63c409188b",
        "colab": {
          "base_uri": "https://localhost:8080/",
          "height": 51
        }
      },
      "source": [
        "ti = arr.sum(axis=1)\n",
        "(ti*ti)/6"
      ],
      "execution_count": 27,
      "outputs": [
        {
          "output_type": "execute_result",
          "data": {
            "text/plain": [
              "array([1944.        , 2646.        , 2400.        , 3128.16666667,\n",
              "       2646.        , 1734.        ])"
            ]
          },
          "metadata": {
            "tags": []
          },
          "execution_count": 27
        }
      ]
    },
    {
      "cell_type": "code",
      "metadata": {
        "id": "17EeXjX6g6_-",
        "outputId": "9de12289-cb35-4e60-8424-3bd9494ff76d",
        "colab": {
          "base_uri": "https://localhost:8080/",
          "height": 34
        }
      },
      "source": [
        "sum([ 8, 28, 21, 13, 12, 26])"
      ],
      "execution_count": 11,
      "outputs": [
        {
          "output_type": "execute_result",
          "data": {
            "text/plain": [
              "108"
            ]
          },
          "metadata": {
            "tags": []
          },
          "execution_count": 11
        }
      ]
    },
    {
      "cell_type": "code",
      "metadata": {
        "id": "uRjO51O2hdA7",
        "outputId": "dbbad5bd-095f-4a02-a050-a782f0a34cc3",
        "colab": {
          "base_uri": "https://localhost:8080/",
          "height": 34
        }
      },
      "source": [
        "sum((tj*tj)/6)"
      ],
      "execution_count": 28,
      "outputs": [
        {
          "output_type": "execute_result",
          "data": {
            "text/plain": [
              "15276.166666666668"
            ]
          },
          "metadata": {
            "tags": []
          },
          "execution_count": 28
        }
      ]
    },
    {
      "cell_type": "code",
      "metadata": {
        "id": "xgVOwLiekNW1",
        "outputId": "813cde6e-290c-404d-bb4f-ba8eb26f0b65",
        "colab": {
          "base_uri": "https://localhost:8080/",
          "height": 34
        }
      },
      "source": [
        "sum((ti*ti)/6)"
      ],
      "execution_count": 29,
      "outputs": [
        {
          "output_type": "execute_result",
          "data": {
            "text/plain": [
              "14498.166666666666"
            ]
          },
          "metadata": {
            "tags": []
          },
          "execution_count": 29
        }
      ]
    },
    {
      "cell_type": "code",
      "metadata": {
        "id": "99TFpFB5khG4",
        "outputId": "42a0ac0b-9001-4b87-9f48-9b143405e70c",
        "colab": {
          "base_uri": "https://localhost:8080/",
          "height": 119
        }
      },
      "source": [
        "arr_square = arr*arr\n",
        "arr_square"
      ],
      "execution_count": 30,
      "outputs": [
        {
          "output_type": "execute_result",
          "data": {
            "text/plain": [
              "array([[  64,  784,  441,  169,  144,  676],\n",
              "       [ 196,  576,  961,  169,  121, 1089],\n",
              "       [ 676,  400,  729,  121,   64,  784],\n",
              "       [ 225,  900,  576,  484,  324,  784],\n",
              "       [ 576,  324,  576,  289,  361,  576],\n",
              "       [ 400,  324,  289,  196,  100,  529]])"
            ]
          },
          "metadata": {
            "tags": []
          },
          "execution_count": 30
        }
      ]
    },
    {
      "cell_type": "code",
      "metadata": {
        "id": "JQ4pQHsjl_N_",
        "outputId": "5cedfed2-9821-4e11-bf81-88ac6a850281",
        "colab": {
          "base_uri": "https://localhost:8080/",
          "height": 34
        }
      },
      "source": [
        "E2j = arr_square.sum(axis=0)\n",
        "E2j"
      ],
      "execution_count": 32,
      "outputs": [
        {
          "output_type": "execute_result",
          "data": {
            "text/plain": [
              "array([2137, 3308, 3572, 1428, 1114, 4438])"
            ]
          },
          "metadata": {
            "tags": []
          },
          "execution_count": 32
        }
      ]
    },
    {
      "cell_type": "code",
      "metadata": {
        "id": "Fk49IHe-mJIf",
        "outputId": "c66a121c-2918-4c68-86fd-e6bcba16bdfd",
        "colab": {
          "base_uri": "https://localhost:8080/",
          "height": 34
        }
      },
      "source": [
        "sum([64,  784,  441,  169,  144,  676])"
      ],
      "execution_count": 36,
      "outputs": [
        {
          "output_type": "execute_result",
          "data": {
            "text/plain": [
              "2278"
            ]
          },
          "metadata": {
            "tags": []
          },
          "execution_count": 36
        }
      ]
    },
    {
      "cell_type": "code",
      "metadata": {
        "id": "hS_SgamNmN-d",
        "outputId": "ff4e4eeb-4b7f-4a2e-9c71-f166f2766815",
        "colab": {
          "base_uri": "https://localhost:8080/",
          "height": 34
        }
      },
      "source": [
        "E2i = arr_square.sum(axis=1)\n",
        "E2i"
      ],
      "execution_count": 37,
      "outputs": [
        {
          "output_type": "execute_result",
          "data": {
            "text/plain": [
              "array([2278, 3112, 2774, 3293, 2702, 1838])"
            ]
          },
          "metadata": {
            "tags": []
          },
          "execution_count": 37
        }
      ]
    },
    {
      "cell_type": "code",
      "metadata": {
        "id": "NG2cjzR_md_x",
        "outputId": "345dc533-8cce-4c13-ebcc-581f4616ba96",
        "colab": {
          "base_uri": "https://localhost:8080/",
          "height": 34
        }
      },
      "source": [
        "print(sum(E2j),sum(E2i))"
      ],
      "execution_count": 38,
      "outputs": [
        {
          "output_type": "stream",
          "text": [
            "15997 15997\n"
          ],
          "name": "stdout"
        }
      ]
    },
    {
      "cell_type": "code",
      "metadata": {
        "id": "eVO3E_Dqmt5x"
      },
      "source": [
        ""
      ],
      "execution_count": 38,
      "outputs": []
    }
  ]
}