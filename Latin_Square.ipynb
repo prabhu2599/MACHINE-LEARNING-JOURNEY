{
  "nbformat": 4,
  "nbformat_minor": 0,
  "metadata": {
    "colab": {
      "name": "Latin Square.ipynb",
      "provenance": [],
      "authorship_tag": "ABX9TyNwJ2wZU448yaklbcQyaXlJ",
      "include_colab_link": true
    },
    "kernelspec": {
      "name": "python3",
      "display_name": "Python 3"
    }
  },
  "cells": [
    {
      "cell_type": "markdown",
      "metadata": {
        "id": "view-in-github",
        "colab_type": "text"
      },
      "source": [
        "<a href=\"https://colab.research.google.com/github/prabhu2599/MACHINE-LEARNING-JOURNEY/blob/parallel_roads/Latin_Square.ipynb\" target=\"_parent\"><img src=\"https://colab.research.google.com/assets/colab-badge.svg\" alt=\"Open In Colab\"/></a>"
      ]
    },
    {
      "cell_type": "code",
      "metadata": {
        "id": "YlYPModOgApP"
      },
      "source": [
        "import numpy as np"
      ],
      "execution_count": 3,
      "outputs": []
    },
    {
      "cell_type": "code",
      "metadata": {
        "id": "P1vfj2litbiV"
      },
      "source": [
        "arrOld = np.array([[21,14,11,28,18,10],\n",
        "                [28,33,27,18,24,14],\n",
        "                [12,31,28,30,17,20],\n",
        "                [13,24,8,16,24,23],\n",
        "                [8,11,20,22,24,17],\n",
        "                [26,13,26,24,19,18]], dtype='int')"
      ],
      "execution_count": null,
      "outputs": []
    },
    {
      "cell_type": "code",
      "metadata": {
        "id": "nYLGt2f2gE2K"
      },
      "source": [
        "arrTk = np.array([[8, 28,21,13,12,26],\n",
        "                [14,24,31,13,11,33],\n",
        "                [26,20,27,11,8,28],\n",
        "                [15,30,24,22,18,28],\n",
        "                [24,18,24,17,19,24],\n",
        "                [20,18,17,14,10,23]], dtype='int')"
      ],
      "execution_count": 57,
      "outputs": []
    },
    {
      "cell_type": "code",
      "metadata": {
        "id": "ApIdR0jDgx2v",
        "outputId": "14335b09-8415-4894-89ff-07b2d692d4d6",
        "colab": {
          "base_uri": "https://localhost:8080/",
          "height": 34
        }
      },
      "source": [
        "ma = arrOld.max()\n",
        "mi = arrOld.min()\n",
        "subt = int(round((ma + mi)/2))\n",
        "subt"
      ],
      "execution_count": 31,
      "outputs": [
        {
          "output_type": "execute_result",
          "data": {
            "text/plain": [
              "20"
            ]
          },
          "metadata": {
            "tags": []
          },
          "execution_count": 31
        }
      ]
    },
    {
      "cell_type": "code",
      "metadata": {
        "id": "7qVhsxZqmfV1",
        "outputId": "31d33fae-5399-441e-c2bd-c6c591b4cc5d",
        "colab": {
          "base_uri": "https://localhost:8080/",
          "height": 119
        }
      },
      "source": [
        "arr = arrOld-subt\n",
        "arrTk = arrTk-subt\n",
        "arr"
      ],
      "execution_count": 63,
      "outputs": [
        {
          "output_type": "execute_result",
          "data": {
            "text/plain": [
              "array([[  1,  -6,  -9,   8,  -2, -10],\n",
              "       [  8,  13,   7,  -2,   4,  -6],\n",
              "       [ -8,  11,   8,  10,  -3,   0],\n",
              "       [ -7,   4, -12,  -4,   4,   3],\n",
              "       [-12,  -9,   0,   2,   4,  -3],\n",
              "       [  6,  -7,   6,   4,  -1,  -2]])"
            ]
          },
          "metadata": {
            "tags": []
          },
          "execution_count": 63
        }
      ]
    },
    {
      "cell_type": "code",
      "metadata": {
        "id": "kVxkX3FJgyus",
        "outputId": "27492af8-8f0f-41f3-8245-16654f7ed215",
        "colab": {
          "base_uri": "https://localhost:8080/",
          "height": 34
        }
      },
      "source": [
        "tj = arr.sum(axis=0)\n",
        "tj"
      ],
      "execution_count": 42,
      "outputs": [
        {
          "output_type": "execute_result",
          "data": {
            "text/plain": [
              "array([-12,   6,   0,  18,   6, -18])"
            ]
          },
          "metadata": {
            "tags": []
          },
          "execution_count": 42
        }
      ]
    },
    {
      "cell_type": "code",
      "metadata": {
        "id": "X5KPoR7nhfuA",
        "outputId": "5e690e44-6ef3-444c-d500-89ae7c33835e",
        "colab": {
          "base_uri": "https://localhost:8080/",
          "height": 34
        }
      },
      "source": [
        "ti = arr.sum(axis=1)\n",
        "ti"
      ],
      "execution_count": 43,
      "outputs": [
        {
          "output_type": "execute_result",
          "data": {
            "text/plain": [
              "array([-18,  24,  18, -12, -18,   6])"
            ]
          },
          "metadata": {
            "tags": []
          },
          "execution_count": 43
        }
      ]
    },
    {
      "cell_type": "code",
      "metadata": {
        "id": "17EeXjX6g6_-",
        "outputId": "fb08f11e-19ae-4119-e58b-820e734db2e2",
        "colab": {
          "base_uri": "https://localhost:8080/",
          "height": 34
        }
      },
      "source": [
        "sum([  1,  -6,  -9,   8,  -2, -10])"
      ],
      "execution_count": 44,
      "outputs": [
        {
          "output_type": "execute_result",
          "data": {
            "text/plain": [
              "-18"
            ]
          },
          "metadata": {
            "tags": []
          },
          "execution_count": 44
        }
      ]
    },
    {
      "cell_type": "code",
      "metadata": {
        "id": "uRjO51O2hdA7",
        "outputId": "88b412a7-5d25-44e6-f3ed-1c6a3ac6733e",
        "colab": {
          "base_uri": "https://localhost:8080/",
          "height": 34
        }
      },
      "source": [
        "(tj*tj)/6"
      ],
      "execution_count": 47,
      "outputs": [
        {
          "output_type": "execute_result",
          "data": {
            "text/plain": [
              "array([24.,  6.,  0., 54.,  6., 54.])"
            ]
          },
          "metadata": {
            "tags": []
          },
          "execution_count": 47
        }
      ]
    },
    {
      "cell_type": "code",
      "metadata": {
        "id": "K12qBbLEsP09",
        "outputId": "70b4ff18-185d-4854-fc05-f0f675c3ab5d",
        "colab": {
          "base_uri": "https://localhost:8080/",
          "height": 34
        }
      },
      "source": [
        "sum((tj*tj)/6)"
      ],
      "execution_count": 49,
      "outputs": [
        {
          "output_type": "execute_result",
          "data": {
            "text/plain": [
              "144.0"
            ]
          },
          "metadata": {
            "tags": []
          },
          "execution_count": 49
        }
      ]
    },
    {
      "cell_type": "code",
      "metadata": {
        "id": "xgVOwLiekNW1",
        "outputId": "3a61c2c1-911f-467a-ee12-cb8bb16ed210",
        "colab": {
          "base_uri": "https://localhost:8080/",
          "height": 34
        }
      },
      "source": [
        "(ti*ti)/6"
      ],
      "execution_count": 50,
      "outputs": [
        {
          "output_type": "execute_result",
          "data": {
            "text/plain": [
              "array([54., 96., 54., 24., 54.,  6.])"
            ]
          },
          "metadata": {
            "tags": []
          },
          "execution_count": 50
        }
      ]
    },
    {
      "cell_type": "code",
      "metadata": {
        "id": "Q3PWPzEfsTLu",
        "outputId": "0109edaa-091c-4f66-c4e5-51ac9135252e",
        "colab": {
          "base_uri": "https://localhost:8080/",
          "height": 34
        }
      },
      "source": [
        "sum((ti*ti)/6)"
      ],
      "execution_count": 51,
      "outputs": [
        {
          "output_type": "execute_result",
          "data": {
            "text/plain": [
              "288.0"
            ]
          },
          "metadata": {
            "tags": []
          },
          "execution_count": 51
        }
      ]
    },
    {
      "cell_type": "code",
      "metadata": {
        "id": "99TFpFB5khG4",
        "outputId": "ed470c71-664e-40f1-ae2b-820910521042",
        "colab": {
          "base_uri": "https://localhost:8080/",
          "height": 119
        }
      },
      "source": [
        "arr_square = arr*arr\n",
        "arr_square"
      ],
      "execution_count": 52,
      "outputs": [
        {
          "output_type": "execute_result",
          "data": {
            "text/plain": [
              "array([[  1,  36,  81,  64,   4, 100],\n",
              "       [ 64, 169,  49,   4,  16,  36],\n",
              "       [ 64, 121,  64, 100,   9,   0],\n",
              "       [ 49,  16, 144,  16,  16,   9],\n",
              "       [144,  81,   0,   4,  16,   9],\n",
              "       [ 36,  49,  36,  16,   1,   4]])"
            ]
          },
          "metadata": {
            "tags": []
          },
          "execution_count": 52
        }
      ]
    },
    {
      "cell_type": "code",
      "metadata": {
        "id": "JQ4pQHsjl_N_",
        "outputId": "1a6d0fe0-4ae3-4b83-c55f-c941bcee63f6",
        "colab": {
          "base_uri": "https://localhost:8080/",
          "height": 34
        }
      },
      "source": [
        "E2j = arr_square.sum(axis=0)\n",
        "E2j"
      ],
      "execution_count": 53,
      "outputs": [
        {
          "output_type": "execute_result",
          "data": {
            "text/plain": [
              "array([358, 472, 374, 204,  62, 158])"
            ]
          },
          "metadata": {
            "tags": []
          },
          "execution_count": 53
        }
      ]
    },
    {
      "cell_type": "code",
      "metadata": {
        "id": "Fk49IHe-mJIf",
        "outputId": "9deaeb24-d52f-4e59-9459-0cfcdc40c86a",
        "colab": {
          "base_uri": "https://localhost:8080/",
          "height": 34
        }
      },
      "source": [
        "sum([64,  784,  441,  169,  144,  676])"
      ],
      "execution_count": 54,
      "outputs": [
        {
          "output_type": "execute_result",
          "data": {
            "text/plain": [
              "2278"
            ]
          },
          "metadata": {
            "tags": []
          },
          "execution_count": 54
        }
      ]
    },
    {
      "cell_type": "code",
      "metadata": {
        "id": "hS_SgamNmN-d",
        "outputId": "bbe5126a-d076-4fd3-ab92-05cc4cfd3af9",
        "colab": {
          "base_uri": "https://localhost:8080/",
          "height": 34
        }
      },
      "source": [
        "E2i = arr_square.sum(axis=1)\n",
        "E2i"
      ],
      "execution_count": 55,
      "outputs": [
        {
          "output_type": "execute_result",
          "data": {
            "text/plain": [
              "array([286, 338, 358, 250, 254, 142])"
            ]
          },
          "metadata": {
            "tags": []
          },
          "execution_count": 55
        }
      ]
    },
    {
      "cell_type": "code",
      "metadata": {
        "id": "NG2cjzR_md_x",
        "outputId": "2228b139-6537-4c97-c203-00e798b4d4e8",
        "colab": {
          "base_uri": "https://localhost:8080/",
          "height": 34
        }
      },
      "source": [
        "print(sum(E2j),sum(E2i))"
      ],
      "execution_count": 56,
      "outputs": [
        {
          "output_type": "stream",
          "text": [
            "1628 1628\n"
          ],
          "name": "stdout"
        }
      ]
    },
    {
      "cell_type": "code",
      "metadata": {
        "id": "eVO3E_Dqmt5x"
      },
      "source": [
        "###################"
      ],
      "execution_count": 58,
      "outputs": []
    },
    {
      "cell_type": "code",
      "metadata": {
        "id": "DA3K_Xgav4r_",
        "outputId": "235bd5b2-b74e-4bb8-ceed-05a0e5510daf",
        "colab": {
          "base_uri": "https://localhost:8080/",
          "height": 119
        }
      },
      "source": [
        "arrTk"
      ],
      "execution_count": 68,
      "outputs": [
        {
          "output_type": "execute_result",
          "data": {
            "text/plain": [
              "array([[-12,   8,   1,  -7,  -8,   6],\n",
              "       [ -6,   4,  11,  -7,  -9,  13],\n",
              "       [  6,   0,   7,  -9, -12,   8],\n",
              "       [ -5,  10,   4,   2,  -2,   8],\n",
              "       [  4,  -2,   4,  -3,  -1,   4],\n",
              "       [  0,  -2,  -3,  -6, -10,   3]])"
            ]
          },
          "metadata": {
            "tags": []
          },
          "execution_count": 68
        }
      ]
    },
    {
      "cell_type": "code",
      "metadata": {
        "id": "HLBAxiVKtl8H",
        "outputId": "2717b947-0d95-468f-9d24-e626dc4bbca5",
        "colab": {
          "base_uri": "https://localhost:8080/",
          "height": 34
        }
      },
      "source": [
        "tik = arrTk.sum(axis=1)\n",
        "tjk = arrTk.sum(axis=0)\n",
        "print(tik,tjk)"
      ],
      "execution_count": 64,
      "outputs": [
        {
          "output_type": "stream",
          "text": [
            "[-12   6   0  17   6 -18] [-13  18  24 -30 -42  42]\n"
          ],
          "name": "stdout"
        }
      ]
    },
    {
      "cell_type": "code",
      "metadata": {
        "id": "ZowiHk66tsRQ",
        "outputId": "cbcd1b58-32a5-405b-f7b4-85cde70b5115",
        "colab": {
          "base_uri": "https://localhost:8080/",
          "height": 34
        }
      },
      "source": [
        "print(sum(tik),sum(tjk))"
      ],
      "execution_count": 65,
      "outputs": [
        {
          "output_type": "stream",
          "text": [
            "-1 -1\n"
          ],
          "name": "stdout"
        }
      ]
    },
    {
      "cell_type": "code",
      "metadata": {
        "id": "ITMERjV1t4O7",
        "outputId": "4cd69169-ef8a-4420-bcf3-06c60515b169",
        "colab": {
          "base_uri": "https://localhost:8080/",
          "height": 34
        }
      },
      "source": [
        "sum((tjk*tjk)/6)"
      ],
      "execution_count": 69,
      "outputs": [
        {
          "output_type": "execute_result",
          "data": {
            "text/plain": [
              "916.1666666666667"
            ]
          },
          "metadata": {
            "tags": []
          },
          "execution_count": 69
        }
      ]
    },
    {
      "cell_type": "code",
      "metadata": {
        "id": "6dC0mLYCvQU5"
      },
      "source": [
        ""
      ],
      "execution_count": 70,
      "outputs": []
    },
    {
      "cell_type": "code",
      "metadata": {
        "id": "AksVgvlIxRwt",
        "outputId": "f4182a98-e664-4886-92b1-9cab0ce6fe66",
        "colab": {
          "base_uri": "https://localhost:8080/",
          "height": 34
        }
      },
      "source": [
        "1628-288-144-916.16"
      ],
      "execution_count": 71,
      "outputs": [
        {
          "output_type": "execute_result",
          "data": {
            "text/plain": [
              "279.84000000000003"
            ]
          },
          "metadata": {
            "tags": []
          },
          "execution_count": 71
        }
      ]
    },
    {
      "cell_type": "code",
      "metadata": {
        "id": "CO4TwVcQyetn"
      },
      "source": [
        ""
      ],
      "execution_count": null,
      "outputs": []
    }
  ]
}